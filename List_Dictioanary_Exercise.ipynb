{
  "nbformat": 4,
  "nbformat_minor": 0,
  "metadata": {
    "colab": {
      "name": "List_Dictioanary_Exercise.ipynb",
      "provenance": [],
      "authorship_tag": "ABX9TyOcDomkqry77bwvPICxKeRW",
      "include_colab_link": true
    },
    "kernelspec": {
      "name": "python3",
      "display_name": "Python 3"
    },
    "language_info": {
      "name": "python"
    }
  },
  "cells": [
    {
      "cell_type": "markdown",
      "metadata": {
        "id": "view-in-github",
        "colab_type": "text"
      },
      "source": [
        "<a href=\"https://colab.research.google.com/github/KhalidNazzar/Learn_Python/blob/main/List_Dictioanary_Exercise.ipynb\" target=\"_parent\"><img src=\"https://colab.research.google.com/assets/colab-badge.svg\" alt=\"Open In Colab\"/></a>"
      ]
    },
    {
      "cell_type": "code",
      "metadata": {
        "id": "BH0pCsoANWgR"
      },
      "source": [
        "list_of_smbd_data = []\n",
        "def smbd_data():\n",
        "    while True:\n",
        "      name = input('Enter name ')\n",
        "      surname = input('Enter surname ')\n",
        "      age = int(input('Enter age '))\n",
        "      if name != 'Khalid':\n",
        "        list_of_smbd_data.append(name)\n",
        "      else:\n",
        "        break\n",
        "      if surname != 'Nazarov':\n",
        "        list_of_smbd_data.append(surname)\n",
        "      else:\n",
        "        break\n",
        "      if age != 20:\n",
        "        list_of_smbd_data.append(age)\n",
        "      else:\n",
        "        break"
      ],
      "execution_count": 1,
      "outputs": []
    },
    {
      "cell_type": "code",
      "metadata": {
        "id": "IetqHgoFNt_B"
      },
      "source": [
        "smbd_data()"
      ],
      "execution_count": 4,
      "outputs": []
    },
    {
      "cell_type": "code",
      "metadata": {
        "id": "Xzu_rJiBNyca"
      },
      "source": [
        "list_of_smbd_data"
      ],
      "execution_count": 4,
      "outputs": []
    },
    {
      "cell_type": "code",
      "metadata": {
        "id": "OwM37r4iOLse"
      },
      "source": [
        ""
      ],
      "execution_count": null,
      "outputs": []
    }
  ]
}