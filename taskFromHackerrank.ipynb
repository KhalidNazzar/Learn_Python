{
  "nbformat": 4,
  "nbformat_minor": 0,
  "metadata": {
    "colab": {
      "name": "taskFromHackerrank.ipynb",
      "provenance": [],
      "collapsed_sections": [],
      "authorship_tag": "ABX9TyP3PHgUCp7yPCeD0TQ5/Ib2",
      "include_colab_link": true
    },
    "kernelspec": {
      "name": "python3",
      "display_name": "Python 3"
    },
    "language_info": {
      "name": "python"
    }
  },
  "cells": [
    {
      "cell_type": "markdown",
      "metadata": {
        "id": "view-in-github",
        "colab_type": "text"
      },
      "source": [
        "<a href=\"https://colab.research.google.com/github/KhalidNazzar/Learn_Python/blob/main/taskFromHackerrank.ipynb\" target=\"_parent\"><img src=\"https://colab.research.google.com/assets/colab-badge.svg\" alt=\"Open In Colab\"/></a>"
      ]
    },
    {
      "cell_type": "code",
      "metadata": {
        "colab": {
          "base_uri": "https://localhost:8080/",
          "height": 154
        },
        "id": "UP_02pnFLCuf",
        "outputId": "6af110c4-6484-44f1-ea5f-189d2ca784e3"
      },
      "source": [
        "n = int(input())\n",
        "A = []\n",
        "for i in range(n):\n",
        "  A.append(int(input()))\n",
        "  temp = 0\n",
        "A.sort()\n",
        "if A[-1]==A[len(A)-2] or A[-1]==A[len(A)-3]:\n",
        "  print(A[len(A)-3])\n",
        "else:\n",
        "  print(A[len(A)-2])\n",
        "\n",
        "\n",
        "\n",
        "\n",
        "'''for j in A:\n",
        "  if j>temp:\n",
        "    temp=j\n",
        "A.remove(j)'''\n",
        "\n"
      ],
      "execution_count": null,
      "outputs": [
        {
          "output_type": "stream",
          "text": [
            "5\n",
            "2\n",
            "3\n",
            "6\n",
            "6\n",
            "5\n",
            "5\n"
          ],
          "name": "stdout"
        },
        {
          "output_type": "execute_result",
          "data": {
            "application/vnd.google.colaboratory.intrinsic+json": {
              "type": "string"
            },
            "text/plain": [
              "'for j in A:\\n  if j>temp:\\n    temp=j\\nA.remove(j)'"
            ]
          },
          "metadata": {
            "tags": []
          },
          "execution_count": 21
        }
      ]
    },
    {
      "cell_type": "code",
      "metadata": {
        "id": "B4wisGXfMr9k"
      },
      "source": [
        "d = {}"
      ],
      "execution_count": null,
      "outputs": []
    },
    {
      "cell_type": "code",
      "metadata": {
        "colab": {
          "base_uri": "https://localhost:8080/"
        },
        "id": "fmMT2K_9YOS0",
        "outputId": "8d8f7874-2305-4bd8-f93b-1f35e0d73c5d"
      },
      "source": [
        "type(d)"
      ],
      "execution_count": null,
      "outputs": [
        {
          "output_type": "execute_result",
          "data": {
            "text/plain": [
              "dict"
            ]
          },
          "metadata": {
            "tags": []
          },
          "execution_count": 27
        }
      ]
    },
    {
      "cell_type": "code",
      "metadata": {
        "colab": {
          "base_uri": "https://localhost:8080/"
        },
        "id": "y3RJ5axHYQFk",
        "outputId": "b1e21103-ee6f-4ab6-9e6a-55b4b340a76b"
      },
      "source": [
        "if __name__ == '__main__':\n",
        "    n = int(input())\n",
        "    arr = map(int, input().split())\n",
        "    A = []\n",
        "    for i in range(n-1):\n",
        "      a = int(input())\n",
        "      A.append(a)\n",
        "    temp = 0\n",
        "    A.sort()\n",
        "    if A[-1]==A[len(A)-2] or A[-1]==A[len(A)-3]:\n",
        "        print(A[len(A)-3])\n",
        "    else:\n",
        "        print(A[len(A)-2])"
      ],
      "execution_count": null,
      "outputs": [
        {
          "output_type": "stream",
          "text": [
            "5\n",
            "2\n",
            "3\n",
            "5\n",
            "5\n",
            "4\n",
            "4\n"
          ],
          "name": "stdout"
        }
      ]
    },
    {
      "cell_type": "code",
      "metadata": {
        "colab": {
          "base_uri": "https://localhost:8080/",
          "height": 282
        },
        "id": "6DVpo4m0aq1s",
        "outputId": "d84968da-af5d-45b7-bc3d-54d547fda3b3"
      },
      "source": [
        "b = int(input())\n",
        "dicti = []\n",
        "liste = []\n",
        "for i in range(b):\n",
        "  e = input()\n",
        "  a = int(input())\n",
        "  liste[e,a]\n",
        "  #liste.extend(dicti)\n",
        "\n",
        "print(dicti)\n",
        "print(liste)\n"
      ],
      "execution_count": null,
      "outputs": [
        {
          "output_type": "stream",
          "text": [
            "2\n",
            "sen\n",
            "44\n"
          ],
          "name": "stdout"
        },
        {
          "output_type": "error",
          "ename": "TypeError",
          "evalue": "ignored",
          "traceback": [
            "\u001b[0;31m---------------------------------------------------------------------------\u001b[0m",
            "\u001b[0;31mTypeError\u001b[0m                                 Traceback (most recent call last)",
            "\u001b[0;32m<ipython-input-52-d0c65c7831a4>\u001b[0m in \u001b[0;36m<module>\u001b[0;34m()\u001b[0m\n\u001b[1;32m      5\u001b[0m   \u001b[0me\u001b[0m \u001b[0;34m=\u001b[0m \u001b[0minput\u001b[0m\u001b[0;34m(\u001b[0m\u001b[0;34m)\u001b[0m\u001b[0;34m\u001b[0m\u001b[0;34m\u001b[0m\u001b[0m\n\u001b[1;32m      6\u001b[0m   \u001b[0ma\u001b[0m \u001b[0;34m=\u001b[0m \u001b[0mint\u001b[0m\u001b[0;34m(\u001b[0m\u001b[0minput\u001b[0m\u001b[0;34m(\u001b[0m\u001b[0;34m)\u001b[0m\u001b[0;34m)\u001b[0m\u001b[0;34m\u001b[0m\u001b[0;34m\u001b[0m\u001b[0m\n\u001b[0;32m----> 7\u001b[0;31m   \u001b[0mliste\u001b[0m\u001b[0;34m[\u001b[0m\u001b[0me\u001b[0m\u001b[0;34m,\u001b[0m\u001b[0ma\u001b[0m\u001b[0;34m]\u001b[0m\u001b[0;34m\u001b[0m\u001b[0;34m\u001b[0m\u001b[0m\n\u001b[0m\u001b[1;32m      8\u001b[0m   \u001b[0;31m#liste.extend(dicti)\u001b[0m\u001b[0;34m\u001b[0m\u001b[0;34m\u001b[0m\u001b[0;34m\u001b[0m\u001b[0m\n\u001b[1;32m      9\u001b[0m \u001b[0;34m\u001b[0m\u001b[0m\n",
            "\u001b[0;31mTypeError\u001b[0m: list indices must be integers or slices, not tuple"
          ]
        }
      ]
    },
    {
      "cell_type": "code",
      "metadata": {
        "colab": {
          "base_uri": "https://localhost:8080/"
        },
        "id": "DfpfkWL5kLNp",
        "outputId": "0486355a-d630-4eca-cc74-b58140e3b65d"
      },
      "source": [
        "dicti['xalid']"
      ],
      "execution_count": null,
      "outputs": [
        {
          "output_type": "execute_result",
          "data": {
            "text/plain": [
              "90"
            ]
          },
          "metadata": {
            "tags": []
          },
          "execution_count": 37
        }
      ]
    },
    {
      "cell_type": "code",
      "metadata": {
        "id": "g2lDpQBd2PNv"
      },
      "source": [
        "x = dicti.values()"
      ],
      "execution_count": null,
      "outputs": []
    },
    {
      "cell_type": "code",
      "metadata": {
        "colab": {
          "base_uri": "https://localhost:8080/"
        },
        "id": "WabtynNb2lcH",
        "outputId": "b059bd06-81c1-42da-f6d4-65b7db1bd581"
      },
      "source": [
        "type(x)"
      ],
      "execution_count": null,
      "outputs": [
        {
          "output_type": "execute_result",
          "data": {
            "text/plain": [
              "dict_values"
            ]
          },
          "metadata": {
            "tags": []
          },
          "execution_count": 45
        }
      ]
    },
    {
      "cell_type": "code",
      "metadata": {
        "id": "htTsoJbr2mH_"
      },
      "source": [
        "def print_full_name(first, last):\n",
        "    # Write your code here\n",
        "    print(f'Hello {first} {last}! You just delved into python.')"
      ],
      "execution_count": null,
      "outputs": []
    },
    {
      "cell_type": "code",
      "metadata": {
        "colab": {
          "base_uri": "https://localhost:8080/"
        },
        "id": "nbE0XKDt7gIM",
        "outputId": "e502f696-ecd5-47e4-c22b-efa65bf40d87"
      },
      "source": [
        "print_full_name('Ross', 'Taylor')"
      ],
      "execution_count": null,
      "outputs": [
        {
          "output_type": "stream",
          "text": [
            "Hello Ross Taylor! You just delved into python.\n"
          ],
          "name": "stdout"
        }
      ]
    },
    {
      "cell_type": "code",
      "metadata": {
        "id": "OD0Q1r6E7ota"
      },
      "source": [
        " def print_full_name(first, last):\n",
        "    # Write your code here\n",
        "    print(f'Hello '+ first +' '+ last+'! You just delved into python.')"
      ],
      "execution_count": null,
      "outputs": []
    },
    {
      "cell_type": "code",
      "metadata": {
        "id": "07D0p4Xx9x3z"
      },
      "source": [
        "def mutate_string(string, position, character):\n",
        "  ls = []\n",
        "  for i in string:\n",
        "    ls.append(i)\n",
        "  ls[position] = character\n",
        "  \n",
        "  str1 = \" \"   \n",
        "  return (str1.join(ls))"
      ],
      "execution_count": null,
      "outputs": []
    },
    {
      "cell_type": "code",
      "metadata": {
        "colab": {
          "base_uri": "https://localhost:8080/"
        },
        "id": "GD26eZEF-dsl",
        "outputId": "91bdd889-563c-4841-fcd9-c5455b46d2dc"
      },
      "source": [
        "st = 'salam'\n",
        "ls = []\n",
        "for i in st:\n",
        "  ls.append(i)\n",
        "print(ls)\n"
      ],
      "execution_count": null,
      "outputs": [
        {
          "output_type": "stream",
          "text": [
            "['s', 'a', 'l', 'a', 'm']\n"
          ],
          "name": "stdout"
        }
      ]
    },
    {
      "cell_type": "code",
      "metadata": {
        "colab": {
          "base_uri": "https://localhost:8080/",
          "height": 35
        },
        "id": "zj0BpCrw-h3J",
        "outputId": "03c7c596-aaa7-4b5d-e6fa-98dd25ef0b6b"
      },
      "source": [
        "mutate_string('abracadabra', 5,'k')"
      ],
      "execution_count": null,
      "outputs": [
        {
          "output_type": "execute_result",
          "data": {
            "application/vnd.google.colaboratory.intrinsic+json": {
              "type": "string"
            },
            "text/plain": [
              "'abrackdabra'"
            ]
          },
          "metadata": {
            "tags": []
          },
          "execution_count": 39
        }
      ]
    },
    {
      "cell_type": "code",
      "metadata": {
        "id": "vOJAAP7zAI5L"
      },
      "source": [
        "def mutate_string(string, position, character):\n",
        "  ls = []\n",
        "  for i in string:\n",
        "    ls.append(i)\n",
        "  ls[position] = character\n",
        "  listToStr = ''.join(map(str, ls))\n",
        "  return(listToStr)\n"
      ],
      "execution_count": null,
      "outputs": []
    },
    {
      "cell_type": "code",
      "metadata": {
        "colab": {
          "base_uri": "https://localhost:8080/"
        },
        "id": "4uw7OahrEHAj",
        "outputId": "f5a3dfee-6d06-4ff2-c742-a6475b6a5fd3"
      },
      "source": [
        "if __name__ == '__main__':\n",
        "    n = int(input().strip())\n",
        "    if n%2==0 and a>=2 and a<=5:\n",
        "        print('Not Weird')\n",
        "    elif n%2==0 and a>=6 and a<=20:\n",
        "        print('Weird')\n",
        "    elif n%2==0 and a>20:\n",
        "        print('Not Weird')\n",
        "    else:\n",
        "        print('Weird')\n",
        "        "
      ],
      "execution_count": null,
      "outputs": [
        {
          "output_type": "stream",
          "text": [
            "7\n",
            "Weird\n"
          ],
          "name": "stdout"
        }
      ]
    },
    {
      "cell_type": "code",
      "metadata": {
        "colab": {
          "base_uri": "https://localhost:8080/"
        },
        "id": "g4Q6vp7DH6vp",
        "outputId": "0ced12d8-d4b7-4f83-be7f-6777dac31b13"
      },
      "source": [
        "def is_leap(year):\n",
        "    leap = False\n",
        "    \n",
        "    # Write your logic here\n",
        "    if year%4 == 0 and (year%100!=0 or year%400==0):\n",
        "      leap = 'True'\n",
        "    \n",
        "    \n",
        "    return leap\n",
        "\n",
        "year = int(input())\n",
        "print(is_leap(year))"
      ],
      "execution_count": null,
      "outputs": [
        {
          "output_type": "stream",
          "text": [
            "2400\n",
            "True\n"
          ],
          "name": "stdout"
        }
      ]
    },
    {
      "cell_type": "code",
      "metadata": {
        "colab": {
          "base_uri": "https://localhost:8080/",
          "height": 35
        },
        "id": "L3gnq8QiJ9Ia",
        "outputId": "6b51e634-925a-4402-93bb-14321d74fd13"
      },
      "source": [
        "is_leap(year)"
      ],
      "execution_count": null,
      "outputs": [
        {
          "output_type": "execute_result",
          "data": {
            "application/vnd.google.colaboratory.intrinsic+json": {
              "type": "string"
            },
            "text/plain": [
              "'True'"
            ]
          },
          "metadata": {
            "tags": []
          },
          "execution_count": 59
        }
      ]
    },
    {
      "cell_type": "code",
      "metadata": {
        "colab": {
          "base_uri": "https://localhost:8080/"
        },
        "id": "JvPJYjm4KFJ9",
        "outputId": "d34afdea-94ab-4700-8cdf-404dd3888384"
      },
      "source": [
        "if __name__ == '__main__':\n",
        "  n = int(input())\n",
        "  ls = []\n",
        "  for i in range(1,n+1):\n",
        "    ls.append(i)\n",
        "  listToStr = ''.join(map(str, ls))\n",
        "  print(listToStr)"
      ],
      "execution_count": null,
      "outputs": [
        {
          "output_type": "stream",
          "text": [
            "5\n",
            "12345\n"
          ],
          "name": "stdout"
        }
      ]
    },
    {
      "cell_type": "code",
      "metadata": {
        "colab": {
          "base_uri": "https://localhost:8080/"
        },
        "id": "O71TYiLYN3e8",
        "outputId": "2bc07547-42da-4411-bc40-bbc9a4f7ee14"
      },
      "source": [
        "arr = map(int, input().split())"
      ],
      "execution_count": null,
      "outputs": [
        {
          "output_type": "stream",
          "text": [
            "3\n"
          ],
          "name": "stdout"
        }
      ]
    },
    {
      "cell_type": "code",
      "metadata": {
        "colab": {
          "base_uri": "https://localhost:8080/"
        },
        "id": "dkic1UUXTm1k",
        "outputId": "bea54d82-5183-4e26-8c69-67b96186707a"
      },
      "source": [
        "arr"
      ],
      "execution_count": null,
      "outputs": [
        {
          "output_type": "execute_result",
          "data": {
            "text/plain": [
              "<map at 0x7fb278497510>"
            ]
          },
          "metadata": {
            "tags": []
          },
          "execution_count": 67
        }
      ]
    },
    {
      "cell_type": "code",
      "metadata": {
        "colab": {
          "base_uri": "https://localhost:8080/"
        },
        "id": "GrhZzBwgTpMX",
        "outputId": "6e46845f-999b-4d98-fbab-0061b5afd720"
      },
      "source": [
        "print(arr)"
      ],
      "execution_count": null,
      "outputs": [
        {
          "output_type": "stream",
          "text": [
            "<map object at 0x7fb278497510>\n"
          ],
          "name": "stdout"
        }
      ]
    },
    {
      "cell_type": "code",
      "metadata": {
        "colab": {
          "base_uri": "https://localhost:8080/"
        },
        "id": "6_2eHcXpTtFZ",
        "outputId": "4c314cfc-5522-4420-ea5f-3a2c0518a4e7"
      },
      "source": [
        "if __name__ == '__main__':\n",
        "    n = int(input())\n",
        "    A = []\n",
        "    \n",
        "    for i in range(n):\n",
        "        a = input()\n",
        "        A.append(a)\n",
        "    temp = 0\n",
        "    A.sort()\n",
        "    if A[-1]==A[len(A)-2] or A[-1]==A[len(A)-3]:\n",
        "        print(A[len(A)-3])\n",
        "    else:\n",
        "        print(A[len(A)-2])"
      ],
      "execution_count": null,
      "outputs": [
        {
          "output_type": "stream",
          "text": [
            "5\n",
            "2\n",
            "3\n",
            "6\n",
            "6\n",
            "5\n",
            "5\n"
          ],
          "name": "stdout"
        }
      ]
    },
    {
      "cell_type": "code",
      "metadata": {
        "colab": {
          "base_uri": "https://localhost:8080/"
        },
        "id": "J4jbFMHTUMAc",
        "outputId": "0be2bbda-0fde-4b30-8a01-e270b20c7d3f"
      },
      "source": [
        "if __name__ == '__main__':\n",
        "    n = int(input())\n",
        "    arr = map(int, input().split())\n",
        "    arr = list(arr)\n",
        "    x = max(arr)\n",
        "    y = -9999999\n",
        "    for i in range(0,n):\n",
        "        if arr[i]<x and arr[i] > y:\n",
        "            y = arr[i]\n",
        "    \n",
        "    print(y)\n",
        "    "
      ],
      "execution_count": null,
      "outputs": [
        {
          "output_type": "stream",
          "text": [
            "5\n",
            "2 3 6 6 5\n",
            "5\n"
          ],
          "name": "stdout"
        }
      ]
    },
    {
      "cell_type": "code",
      "metadata": {
        "colab": {
          "base_uri": "https://localhost:8080/"
        },
        "id": "sUuTbLg-Vy1P",
        "outputId": "318a26b6-49ab-4522-af01-70d6c8644021"
      },
      "source": [
        "print(x)"
      ],
      "execution_count": null,
      "outputs": [
        {
          "output_type": "stream",
          "text": [
            "6\n"
          ],
          "name": "stdout"
        }
      ]
    },
    {
      "cell_type": "code",
      "metadata": {
        "colab": {
          "base_uri": "https://localhost:8080/"
        },
        "id": "gZu_H1FUWLtb",
        "outputId": "ef631109-676f-483a-a1d8-e5c73b373a0c"
      },
      "source": [
        "if __name__ == '__main__':\n",
        "  lst = []\n",
        "  a = int(input())\n",
        "  temp=0\n",
        "  for i in range(a):\n",
        "      name = input()\n",
        "      score = float(input())\n",
        "      lst.append(score)\n",
        "      if score > temp:\n",
        "        score = temp\n",
        "  print(lst)\n",
        "  #lst.sort()\n",
        "  #if lst[-1]>lst[len(lst)-2]:\n",
        "   # print()\n",
        "\n"
      ],
      "execution_count": null,
      "outputs": [
        {
          "output_type": "stream",
          "text": [
            "2\n",
            "sdf\n",
            "4\n",
            "adf\n",
            "5\n",
            "[4.0, 5.0]\n"
          ],
          "name": "stdout"
        }
      ]
    },
    {
      "cell_type": "code",
      "metadata": {
        "colab": {
          "base_uri": "https://localhost:8080/"
        },
        "id": "kuUIyT8dXG6O",
        "outputId": "2dbd9dad-c63b-4651-bf33-cf2823475464"
      },
      "source": [
        "lst"
      ],
      "execution_count": null,
      "outputs": [
        {
          "output_type": "execute_result",
          "data": {
            "text/plain": [
              "[4.0]"
            ]
          },
          "metadata": {
            "tags": []
          },
          "execution_count": 86
        }
      ]
    },
    {
      "cell_type": "code",
      "metadata": {
        "colab": {
          "base_uri": "https://localhost:8080/"
        },
        "id": "4InS_dn8aOno",
        "outputId": "004f73f7-4ae7-4736-892b-f365a5823058"
      },
      "source": [
        "len(lst)"
      ],
      "execution_count": null,
      "outputs": [
        {
          "output_type": "execute_result",
          "data": {
            "text/plain": [
              "2"
            ]
          },
          "metadata": {
            "tags": []
          },
          "execution_count": 89
        }
      ]
    },
    {
      "cell_type": "code",
      "metadata": {
        "colab": {
          "base_uri": "https://localhost:8080/",
          "height": 197
        },
        "id": "Q-UcQTJ9b5Bu",
        "outputId": "74dcd5a2-5bef-454d-9c25-e2f88cfb3ae8"
      },
      "source": [
        "if __name__ == '__main__':\n",
        "    n = int(raw_input())\n",
        "    integer_list = map(int, raw_input().split())"
      ],
      "execution_count": null,
      "outputs": [
        {
          "output_type": "error",
          "ename": "NameError",
          "evalue": "ignored",
          "traceback": [
            "\u001b[0;31m---------------------------------------------------------------------------\u001b[0m",
            "\u001b[0;31mNameError\u001b[0m                                 Traceback (most recent call last)",
            "\u001b[0;32m<ipython-input-90-acd3bfaacdb8>\u001b[0m in \u001b[0;36m<module>\u001b[0;34m()\u001b[0m\n\u001b[1;32m      1\u001b[0m \u001b[0;32mif\u001b[0m \u001b[0m__name__\u001b[0m \u001b[0;34m==\u001b[0m \u001b[0;34m'__main__'\u001b[0m\u001b[0;34m:\u001b[0m\u001b[0;34m\u001b[0m\u001b[0;34m\u001b[0m\u001b[0m\n\u001b[0;32m----> 2\u001b[0;31m     \u001b[0mn\u001b[0m \u001b[0;34m=\u001b[0m \u001b[0mint\u001b[0m\u001b[0;34m(\u001b[0m\u001b[0mraw_input\u001b[0m\u001b[0;34m(\u001b[0m\u001b[0;34m)\u001b[0m\u001b[0;34m)\u001b[0m\u001b[0;34m\u001b[0m\u001b[0;34m\u001b[0m\u001b[0m\n\u001b[0m\u001b[1;32m      3\u001b[0m     \u001b[0minteger_list\u001b[0m \u001b[0;34m=\u001b[0m \u001b[0mmap\u001b[0m\u001b[0;34m(\u001b[0m\u001b[0mint\u001b[0m\u001b[0;34m,\u001b[0m \u001b[0mraw_input\u001b[0m\u001b[0;34m(\u001b[0m\u001b[0;34m)\u001b[0m\u001b[0;34m.\u001b[0m\u001b[0msplit\u001b[0m\u001b[0;34m(\u001b[0m\u001b[0;34m)\u001b[0m\u001b[0;34m)\u001b[0m\u001b[0;34m\u001b[0m\u001b[0;34m\u001b[0m\u001b[0m\n",
            "\u001b[0;31mNameError\u001b[0m: name 'raw_input' is not defined"
          ]
        }
      ]
    },
    {
      "cell_type": "code",
      "metadata": {
        "colab": {
          "base_uri": "https://localhost:8080/",
          "height": 350
        },
        "id": "eYNZ24uMd_Zl",
        "outputId": "da1a3726-5d38-4b2b-bc24-0cf3674b4fc4"
      },
      "source": [
        "def split_and_join(line):\n",
        "  a = list(line)\n",
        "  b = ' '\n",
        "  for i in a:\n",
        "    if i == b:\n",
        "      \n",
        "      a[i] = '-'\n",
        "\n",
        "  return(a)\n",
        "\n",
        "          \n",
        "    # write your code here\n",
        "\n",
        "if __name__ == '__main__':\n",
        "    line = input()\n",
        "    result = split_and_join(line)\n",
        "    print(result)"
      ],
      "execution_count": null,
      "outputs": [
        {
          "output_type": "stream",
          "text": [
            "dfhgv jhgfv jhtfve jurygf\n"
          ],
          "name": "stdout"
        },
        {
          "output_type": "error",
          "ename": "TypeError",
          "evalue": "ignored",
          "traceback": [
            "\u001b[0;31m---------------------------------------------------------------------------\u001b[0m",
            "\u001b[0;31mTypeError\u001b[0m                                 Traceback (most recent call last)",
            "\u001b[0;32m<ipython-input-113-302b6dafc403>\u001b[0m in \u001b[0;36m<module>\u001b[0;34m()\u001b[0m\n\u001b[1;32m     14\u001b[0m \u001b[0;32mif\u001b[0m \u001b[0m__name__\u001b[0m \u001b[0;34m==\u001b[0m \u001b[0;34m'__main__'\u001b[0m\u001b[0;34m:\u001b[0m\u001b[0;34m\u001b[0m\u001b[0;34m\u001b[0m\u001b[0m\n\u001b[1;32m     15\u001b[0m     \u001b[0mline\u001b[0m \u001b[0;34m=\u001b[0m \u001b[0minput\u001b[0m\u001b[0;34m(\u001b[0m\u001b[0;34m)\u001b[0m\u001b[0;34m\u001b[0m\u001b[0;34m\u001b[0m\u001b[0m\n\u001b[0;32m---> 16\u001b[0;31m     \u001b[0mresult\u001b[0m \u001b[0;34m=\u001b[0m \u001b[0msplit_and_join\u001b[0m\u001b[0;34m(\u001b[0m\u001b[0mline\u001b[0m\u001b[0;34m)\u001b[0m\u001b[0;34m\u001b[0m\u001b[0;34m\u001b[0m\u001b[0m\n\u001b[0m\u001b[1;32m     17\u001b[0m     \u001b[0mprint\u001b[0m\u001b[0;34m(\u001b[0m\u001b[0mresult\u001b[0m\u001b[0;34m)\u001b[0m\u001b[0;34m\u001b[0m\u001b[0;34m\u001b[0m\u001b[0m\n",
            "\u001b[0;32m<ipython-input-113-302b6dafc403>\u001b[0m in \u001b[0;36msplit_and_join\u001b[0;34m(line)\u001b[0m\n\u001b[1;32m      5\u001b[0m     \u001b[0;32mif\u001b[0m \u001b[0mi\u001b[0m \u001b[0;34m==\u001b[0m \u001b[0mb\u001b[0m\u001b[0;34m:\u001b[0m\u001b[0;34m\u001b[0m\u001b[0;34m\u001b[0m\u001b[0m\n\u001b[1;32m      6\u001b[0m \u001b[0;34m\u001b[0m\u001b[0m\n\u001b[0;32m----> 7\u001b[0;31m       \u001b[0ma\u001b[0m\u001b[0;34m[\u001b[0m\u001b[0mi\u001b[0m\u001b[0;34m]\u001b[0m \u001b[0;34m=\u001b[0m \u001b[0;34m'-'\u001b[0m\u001b[0;34m\u001b[0m\u001b[0;34m\u001b[0m\u001b[0m\n\u001b[0m\u001b[1;32m      8\u001b[0m \u001b[0;34m\u001b[0m\u001b[0m\n\u001b[1;32m      9\u001b[0m   \u001b[0;32mreturn\u001b[0m\u001b[0;34m(\u001b[0m\u001b[0ma\u001b[0m\u001b[0;34m)\u001b[0m\u001b[0;34m\u001b[0m\u001b[0;34m\u001b[0m\u001b[0m\n",
            "\u001b[0;31mTypeError\u001b[0m: list indices must be integers or slices, not str"
          ]
        }
      ]
    },
    {
      "cell_type": "code",
      "metadata": {
        "id": "2Gk7Qwndew0X"
      },
      "source": [
        "kierufh sgkhsstrv = 'salam, necesen'"
      ],
      "execution_count": null,
      "outputs": []
    },
    {
      "cell_type": "code",
      "metadata": {
        "id": "zLwnVr_ghzFn"
      },
      "source": [
        "a = list(strv)"
      ],
      "execution_count": null,
      "outputs": []
    },
    {
      "cell_type": "code",
      "metadata": {
        "colab": {
          "base_uri": "https://localhost:8080/"
        },
        "id": "FUTd9jgJh2UX",
        "outputId": "cc964b73-2191-4d51-d921-df2a6300d3eb"
      },
      "source": [
        "a"
      ],
      "execution_count": null,
      "outputs": [
        {
          "output_type": "execute_result",
          "data": {
            "text/plain": [
              "['s', 'a', 'l', 'a', 'm', ',', ' ', 'n', 'e', 'c', 'e', 's', 'e', 'n']"
            ]
          },
          "metadata": {
            "tags": []
          },
          "execution_count": 101
        }
      ]
    },
    {
      "cell_type": "code",
      "metadata": {
        "id": "fCnWNLDTh3Ie"
      },
      "source": [
        "a[2] = 'f'"
      ],
      "execution_count": null,
      "outputs": []
    },
    {
      "cell_type": "code",
      "metadata": {
        "id": "tBesZ9NxiX47",
        "colab": {
          "base_uri": "https://localhost:8080/"
        },
        "outputId": "64e2de07-01cf-4fe4-e382-246a3fa4a215"
      },
      "source": [
        "if __name__ == '__main__':\n",
        "    n = int(input())\n",
        "    b = []\n",
        "    for i in range(n):\n",
        "      a = int(input())\n",
        "      b.append(a)\n",
        "    c = tuple(b)\n",
        "    print(hash(c))\n",
        "\n"
      ],
      "execution_count": 22,
      "outputs": [
        {
          "output_type": "stream",
          "text": [
            "2\n",
            "1\n",
            "2\n",
            "3713081631934410656\n"
          ],
          "name": "stdout"
        }
      ]
    },
    {
      "cell_type": "code",
      "metadata": {
        "colab": {
          "base_uri": "https://localhost:8080/"
        },
        "id": "1dtATHcSVmXx",
        "outputId": "22b3f003-07f2-48f7-cf15-8f321ab50dae"
      },
      "source": [
        "7li = [1,2,3,4,5,6,7,8,9]\n",
        "def func(x):\n",
        "  return pow(x,2)\n",
        "print(list(map(func,li)))"
      ],
      "execution_count": 8,
      "outputs": [
        {
          "output_type": "stream",
          "text": [
            "[1, 4, 9, 16, 25, 36, 49, 64, 81]\n"
          ],
          "name": "stdout"
        }
      ]
    },
    {
      "cell_type": "code",
      "metadata": {
        "id": "Clrm5rKfXWRG"
      },
      "source": [
        ""
      ],
      "execution_count": 14,
      "outputs": []
    },
    {
      "cell_type": "code",
      "metadata": {
        "colab": {
          "base_uri": "https://localhost:8080/"
        },
        "id": "fThXNY75batL",
        "outputId": "497e1abc-c07c-4fb0-b831-dd53425262e2"
      },
      "source": [
        "def swap_case(s):\n",
        "    return s.swapcase()\n",
        "\n",
        "if __name__ == '__main__':\n",
        "    s = input()\n",
        "    result = swap_case(s)\n",
        "    print(result)"
      ],
      "execution_count": 25,
      "outputs": [
        {
          "output_type": "stream",
          "text": [
            "dsfhsd HGVHG giygv\n",
            "DSFHSD hgvhg GIYGV\n"
          ],
          "name": "stdout"
        }
      ]
    },
    {
      "cell_type": "code",
      "metadata": {
        "id": "0VQ6tL6hcoa0"
      },
      "source": [
        "a = 'salam qaqa necesen'\n",
        "a = s.split(' ')\n",
        "a = '-'.join(a)"
      ],
      "execution_count": 30,
      "outputs": []
    },
    {
      "cell_type": "code",
      "metadata": {
        "colab": {
          "base_uri": "https://localhost:8080/",
          "height": 35
        },
        "id": "A4MGwXf1i8yP",
        "outputId": "b63c9c01-4092-4408-dd76-769a7b6639cc"
      },
      "source": [
        "a"
      ],
      "execution_count": 31,
      "outputs": [
        {
          "output_type": "execute_result",
          "data": {
            "application/vnd.google.colaboratory.intrinsic+json": {
              "type": "string"
            },
            "text/plain": [
              "'dsfhsd-HGVHG-giygv'"
            ]
          },
          "metadata": {
            "tags": []
          },
          "execution_count": 31
        }
      ]
    },
    {
      "cell_type": "code",
      "metadata": {
        "colab": {
          "base_uri": "https://localhost:8080/"
        },
        "id": "ZZPg-kXxi9i1",
        "outputId": "e0aaff86-6317-48c6-a26f-9276e3200837"
      },
      "source": [
        "def split_and_join(line):\n",
        "\n",
        "  line = line.split(' ')\n",
        "  line = '-'.join(line)\n",
        "  return line\n",
        "        \n",
        "    # write your code here\n",
        "\n",
        "if __name__ == '__main__':\n",
        "    line = input()\n",
        "    result = split_and_join(line)\n",
        "    print(result)"
      ],
      "execution_count": 36,
      "outputs": [
        {
          "output_type": "stream",
          "text": [
            "jagfcvy jurbvq jeryvbq\n",
            "jagfcvy-jurbvq-jeryvbq\n"
          ],
          "name": "stdout"
        }
      ]
    },
    {
      "cell_type": "code",
      "metadata": {
        "colab": {
          "base_uri": "https://localhost:8080/"
        },
        "id": "3h8UeT4Gjlmc",
        "outputId": "d1415373-f77e-434d-cc82-070bd5955afa"
      },
      "source": [
        "import textwrap\n",
        "\n",
        "def wrap(string, max_width):\n",
        "  a = textwrap.wrap(string, width = max_width)\n",
        "  for i in a:\n",
        "    \n",
        "    return i\n",
        "\n",
        "if __name__ == '__main__':\n",
        "    string, max_width = input(), int(input())\n",
        "    result = wrap(string, max_width)\n",
        "    print(result)"
      ],
      "execution_count": 50,
      "outputs": [
        {
          "output_type": "stream",
          "text": [
            "etybrthybrtunrybhrtnr\n",
            "4\n",
            "etyb\n"
          ],
          "name": "stdout"
        }
      ]
    },
    {
      "cell_type": "code",
      "metadata": {
        "colab": {
          "base_uri": "https://localhost:8080/"
        },
        "id": "MRA5t9LYlMHF",
        "outputId": "6154f637-57aa-4f87-d21b-88abf3c943f6"
      },
      "source": [
        "string = 'wek,fvwrkjhtgvekr,gtvekr,igvekgtvhekrubv'\n",
        "a = textwrap.wrap(string, width = 4)\n",
        "for i in a:\n",
        "    print(i)"
      ],
      "execution_count": 49,
      "outputs": [
        {
          "output_type": "stream",
          "text": [
            "wek,\n",
            "fvwr\n",
            "kjht\n",
            "gvek\n",
            "r,gt\n",
            "vekr\n",
            ",igv\n",
            "ekgt\n",
            "vhek\n",
            "rubv\n"
          ],
          "name": "stdout"
        }
      ]
    },
    {
      "cell_type": "markdown",
      "metadata": {
        "id": "0BKZ1l5nmGBi"
      },
      "source": [
        "#ANSWER OF QUESTION"
      ]
    },
    {
      "cell_type": "code",
      "metadata": {
        "colab": {
          "base_uri": "https://localhost:8080/"
        },
        "id": "Rft5vGs-_goh",
        "outputId": "be77f41e-770c-44d4-c6aa-96266a07bb8f"
      },
      "source": [
        "#LOOPS\n",
        "\n",
        "if __name__ == '__main__':\n",
        "    n = int(input())\n",
        "    if n >=1 and n<=20:\n",
        "        for i in range (n):\n",
        "            print(pow(i,2))"
      ],
      "execution_count": 51,
      "outputs": [
        {
          "output_type": "stream",
          "text": [
            "5\n",
            "0\n",
            "1\n",
            "4\n",
            "9\n",
            "16\n"
          ],
          "name": "stdout"
        }
      ]
    },
    {
      "cell_type": "code",
      "metadata": {
        "colab": {
          "base_uri": "https://localhost:8080/"
        },
        "id": "czYukO2x_2N4",
        "outputId": "b445bad5-fad2-4207-d97d-e59d4ba0fce5"
      },
      "source": [
        "#WRITE A FUNCTION\n",
        "\n",
        "def is_leap(year):\n",
        "    leap = False\n",
        "    \n",
        "    # Write your logic here\n",
        "    if year%4 == 0 and (year%100!=0 or year%400==0):\n",
        "      leap = 'True'\n",
        "    \n",
        "    \n",
        "    return leap\n",
        "year = int(input())\n",
        "print(is_leap(year))"
      ],
      "execution_count": 52,
      "outputs": [
        {
          "output_type": "stream",
          "text": [
            "1990\n",
            "False\n"
          ],
          "name": "stdout"
        }
      ]
    },
    {
      "cell_type": "code",
      "metadata": {
        "colab": {
          "base_uri": "https://localhost:8080/"
        },
        "id": "8T5Xuw_wACEZ",
        "outputId": "808a929c-b72c-4e83-8ee6-fa9ff61ff835"
      },
      "source": [
        "#PRINT FUNCTION\n",
        "\n",
        "if __name__ == '__main__':\n",
        "  n = int(input())\n",
        "  ls = []\n",
        "  for i in range(1,n+1):\n",
        "    ls.append(i)\n",
        "  listToStr = ''.join(map(str, ls))\n",
        "  print(listToStr)\n"
      ],
      "execution_count": 53,
      "outputs": [
        {
          "output_type": "stream",
          "text": [
            "2\n",
            "12\n"
          ],
          "name": "stdout"
        }
      ]
    },
    {
      "cell_type": "code",
      "metadata": {
        "colab": {
          "base_uri": "https://localhost:8080/"
        },
        "id": "xINdPzcoAOK0",
        "outputId": "0e480a9f-0294-486c-98cc-fb40c23e8579"
      },
      "source": [
        "# LIST COMPREHENSIONS\n",
        "\n",
        "if __name__ == '__main__':\n",
        "    x = int(input())\n",
        "    y = int(input())\n",
        "    z = int(input())\n",
        "    n = int(input())\n",
        "    lis= []\n",
        "    m = []\n",
        "    a = []\n",
        "    for i in range(0, x+1):\n",
        "      for j in range (0, y+1):\n",
        "        for k in range (0, z+1):\n",
        "            if i+j+k != n:\n",
        "                a = list ([i,j,k])\n",
        "                lis.append(a)\n",
        "    print(lis)   "
      ],
      "execution_count": 54,
      "outputs": [
        {
          "output_type": "stream",
          "text": [
            "2\n",
            "3\n",
            "2\n",
            "2\n",
            "[[0, 0, 0], [0, 0, 1], [0, 1, 0], [0, 1, 2], [0, 2, 1], [0, 2, 2], [0, 3, 0], [0, 3, 1], [0, 3, 2], [1, 0, 0], [1, 0, 2], [1, 1, 1], [1, 1, 2], [1, 2, 0], [1, 2, 1], [1, 2, 2], [1, 3, 0], [1, 3, 1], [1, 3, 2], [2, 0, 1], [2, 0, 2], [2, 1, 0], [2, 1, 1], [2, 1, 2], [2, 2, 0], [2, 2, 1], [2, 2, 2], [2, 3, 0], [2, 3, 1], [2, 3, 2]]\n"
          ],
          "name": "stdout"
        }
      ]
    },
    {
      "cell_type": "code",
      "metadata": {
        "colab": {
          "base_uri": "https://localhost:8080/"
        },
        "id": "5nlpg2v9A_jY",
        "outputId": "41674fac-3ec0-4b71-951d-34d755f10dfa"
      },
      "source": [
        "# FIND THE RUNNER-UP SCORE!\n",
        "\n",
        "if __name__ == '__main__':\n",
        "    n = int(input())\n",
        "    arr = map(int, input().split())\n",
        "    arr = list(arr)\n",
        "    x = max(arr)\n",
        "    y = -9999999\n",
        "    for i in range(0,n):\n",
        "        if arr[i]<x and arr[i] > y:\n",
        "            y = arr[i]\n",
        "    \n",
        "    print(y)"
      ],
      "execution_count": 55,
      "outputs": [
        {
          "output_type": "stream",
          "text": [
            "3\n",
            "4 5 3\n",
            "4\n"
          ],
          "name": "stdout"
        }
      ]
    },
    {
      "cell_type": "code",
      "metadata": {
        "colab": {
          "base_uri": "https://localhost:8080/"
        },
        "id": "sx0gSIbrBuvJ",
        "outputId": "f0ccb297-a4ae-4486-f14b-e6bae3f3478d"
      },
      "source": [
        "#TUPLES\n",
        "\n",
        "if __name__ == '__main__':\n",
        "    n = int(input())\n",
        "    integer_list = map(int, input().split())\n",
        "    c = tuple(integer_list)\n",
        "    print(hash(c))\n"
      ],
      "execution_count": 56,
      "outputs": [
        {
          "output_type": "stream",
          "text": [
            "3\n",
            "4\n",
            "3430022387567\n"
          ],
          "name": "stdout"
        }
      ]
    },
    {
      "cell_type": "code",
      "metadata": {
        "colab": {
          "base_uri": "https://localhost:8080/"
        },
        "id": "xAj5fqhPCK_G",
        "outputId": "de2e15df-225a-465b-f657-b89b47178314"
      },
      "source": [
        "# sWAP cASE\n",
        "\n",
        "def swap_case(s):\n",
        "    return s.swapcase()\n",
        "\n",
        "if __name__ == '__main__':\n",
        "    s = input()\n",
        "    result = swap_case(s)\n",
        "    print(result)"
      ],
      "execution_count": 57,
      "outputs": [
        {
          "output_type": "stream",
          "text": [
            ",,DJFGHBDJFG,BDkibkygb\n",
            ",,djfghbdjfg,bdKIBKYGB\n"
          ],
          "name": "stdout"
        }
      ]
    },
    {
      "cell_type": "code",
      "metadata": {
        "colab": {
          "base_uri": "https://localhost:8080/"
        },
        "id": "dN8D4nhBCc5m",
        "outputId": "f88112f7-7294-4cd0-e145-76b4250b19d6"
      },
      "source": [
        "# STRING SPLIT AND JOIN\n",
        "\n",
        "def split_and_join(line):\n",
        "        line = line.split(' ')\n",
        "        line = '-'.join(line)\n",
        "        return line\n",
        "        \n",
        "    # write your code here\n",
        "\n",
        "if __name__ == '__main__':\n",
        "    line = input()\n",
        "    result = split_and_join(line)\n",
        "    print(result)"
      ],
      "execution_count": 58,
      "outputs": [
        {
          "output_type": "stream",
          "text": [
            "SDKFH SKFVBN KSUTFVH KSUHVB\n",
            "SDKFH-SKFVBN-KSUTFVH-KSUHVB\n"
          ],
          "name": "stdout"
        }
      ]
    },
    {
      "cell_type": "code",
      "metadata": {
        "colab": {
          "base_uri": "https://localhost:8080/"
        },
        "id": "QTyUBwtQC2QI",
        "outputId": "341fd16a-0c53-4851-810c-32f6cddb3a32"
      },
      "source": [
        "#WHAT IS UR NAME?\n",
        "\n",
        "#\n",
        "# Complete the 'print_full_name' function below.\n",
        "#\n",
        "# The function is expected to return a STRING.\n",
        "# The function accepts following parameters:\n",
        "#  1. STRING first\n",
        "#  2. STRING last\n",
        "#\n",
        "\n",
        "def print_full_name(first, last):\n",
        "    # Write your code here\n",
        "    print(f'Hello {first} {last}! You just delved into python.')\n",
        "\n",
        "if __name__ == '__main__':\n",
        "    first_name = input()\n",
        "    last_name = input()\n",
        "    print_full_name(first_name, last_name)"
      ],
      "execution_count": 59,
      "outputs": [
        {
          "output_type": "stream",
          "text": [
            "FJGH\n",
            "HDHGYN\n",
            "Hello FJGH HDHGYN! You just delved into python.\n"
          ],
          "name": "stdout"
        }
      ]
    },
    {
      "cell_type": "code",
      "metadata": {
        "colab": {
          "base_uri": "https://localhost:8080/"
        },
        "id": "Gm5xVaDzDKQt",
        "outputId": "211d39d2-0061-4ef3-ca20-17e841f4703d"
      },
      "source": [
        "# MUTATIONS\n",
        "\n",
        "def mutate_string(string, position, character):\n",
        "  ls = []\n",
        "  for i in string:\n",
        "    ls.append(i)\n",
        "  ls[position] = character\n",
        "  listToStr = ''.join(map(str, ls))\n",
        "  return(listToStr)\n",
        "\n",
        "if __name__ == '__main__':\n",
        "    s = input()\n",
        "    i, c = input().split()\n",
        "    s_new = mutate_string(s, int(i), c)\n",
        "    print(s_new)"
      ],
      "execution_count": 61,
      "outputs": [
        {
          "output_type": "stream",
          "text": [
            "DJGSDKGH\n",
            "3 4\n",
            "DJG4DKGH\n"
          ],
          "name": "stdout"
        }
      ]
    },
    {
      "cell_type": "code",
      "metadata": {
        "id": "ujtbn1ckDacq"
      },
      "source": [
        ""
      ],
      "execution_count": null,
      "outputs": []
    }
  ]
}